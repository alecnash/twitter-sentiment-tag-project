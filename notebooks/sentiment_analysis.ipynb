{
 "cells": [
  {
   "cell_type": "code",
   "execution_count": 1,
   "metadata": {},
   "outputs": [
    {
     "name": "stderr",
     "output_type": "stream",
     "text": [
      "Using TensorFlow backend.\n"
     ]
    }
   ],
   "source": [
    "import os\n",
    "import pickle\n",
    "\n",
    "import pandas as pd\n",
    "import datetime as dt\n",
    "import numpy as np\n",
    "\n",
    "import matplotlib.pyplot as plt\n",
    "from matplotlib import style\n",
    "\n",
    "from keras.models import load_model\n",
    "import tweepy\n",
    "import json\n",
    "\n",
    "os.chdir('C:\\\\Users\\\\kosta\\\\Desktop\\\\projects\\\\twitter\\src')\n",
    "from predict import predict\n",
    "from decode_sentiment import decode_sentiment\n",
    "import twitter_credentials\n",
    "from fetch_tweets import fetch_tweets\n",
    "\n",
    "os.chdir('C:\\\\Users\\\\kosta\\\\Desktop\\\\projects\\\\twitter\\models')\n",
    "tokenizer = pickle.load(open('tokenizer.pkl', \"rb\"))\n",
    "model = load_model('model.h5')\n"
   ]
  },
  {
   "cell_type": "code",
   "execution_count": 2,
   "metadata": {},
   "outputs": [],
   "source": [
    "pd.set_option('display.max_colwidth', -1)"
   ]
  },
  {
   "cell_type": "code",
   "execution_count": 3,
   "metadata": {
    "scrolled": true
   },
   "outputs": [],
   "source": [
    "auth = tweepy.OAuthHandler(twitter_credentials.consumer_key, twitter_credentials.consumer_secret)\n",
    "auth.set_access_token(twitter_credentials.access_token, twitter_credentials.access_token_secret)\n",
    "api = tweepy.API(auth)"
   ]
  },
  {
   "cell_type": "code",
   "execution_count": 5,
   "metadata": {
    "scrolled": true
   },
   "outputs": [],
   "source": [
    "screen_name = 'tceu_'\n",
    "df_tweets = fetch_tweets(screen_name,api)\n",
    "df_tweets['Date'] = pd.to_datetime(df_tweets['Date'].dt.date)\n",
    "df_tweets['free_text'] = df_tweets['free_text'].apply(lambda row_text: row_text.decode(\"utf-8\"))"
   ]
  },
  {
   "cell_type": "code",
   "execution_count": 6,
   "metadata": {},
   "outputs": [
    {
     "name": "stdout",
     "output_type": "stream",
     "text": [
      "No. of tweets: 75\n"
     ]
    }
   ],
   "source": [
    "print('No. of tweets: {}'.format(df_tweets.shape[0]))"
   ]
  },
  {
   "cell_type": "code",
   "execution_count": 7,
   "metadata": {},
   "outputs": [
    {
     "data": {
      "image/png": "[encoded data removed]",
      "text/plain": [
       "<Figure size 432x288 with 1 Axes>"
      ]
     },
     "metadata": {
      "needs_background": "light"
     },
     "output_type": "display_data"
    }
   ],
   "source": [
    "df_tweets.groupby(df_tweets['Date'].dt.to_period('M')).agg({'free_text':'count'}).reset_index().plot('Date','free_text')\n",
    "plt.ylabel('# tweets')\n",
    "plt.title('# tweets posted over time')\n",
    "plt.show()"
   ]
  },
  {
   "cell_type": "code",
   "execution_count": 20,
   "metadata": {},
   "outputs": [
    {
     "name": "stdout",
     "output_type": "stream",
     "text": [
      "Full house for Toyota Connected Tech Nights. Thank you to all who turned out 🙌🏻 #tceutechnights https://t.co/1EjtfoJrML \n",
      "\n"
     ]
    },
    {
     "data": {
      "text/plain": [
       "{'label': 'POSITIVE',\n",
       " 'score': 0.9617104530334473,\n",
       " 'elapsed_time': 0.02393651008605957}"
      ]
     },
     "execution_count": 20,
     "metadata": {},
     "output_type": "execute_result"
    }
   ],
   "source": [
    "text = df_tweets.sample(n=1)['free_text'].values[-1]\n",
    "print(text,'\\n')\n",
    "predict(text=text,SEQUENCE_LENGTH=300,saved_tokenizer=tokenizer,saved_model=model)"
   ]
  },
  {
   "cell_type": "code",
   "execution_count": 9,
   "metadata": {},
   "outputs": [],
   "source": [
    "df_tweets['polarity'] = df_tweets['free_text'].apply(lambda row_text: predict(row_text,SEQUENCE_LENGTH=300,saved_tokenizer=tokenizer,saved_model=model)['label'])"
   ]
  },
  {
   "cell_type": "code",
   "execution_count": 10,
   "metadata": {},
   "outputs": [],
   "source": [
    "df_tweets['score'] = df_tweets['free_text'].apply(lambda row_text: predict(row_text,SEQUENCE_LENGTH=300,saved_tokenizer=tokenizer,saved_model=model)['score'])"
   ]
  },
  {
   "cell_type": "code",
   "execution_count": 11,
   "metadata": {},
   "outputs": [
    {
     "data": {
      "text/plain": [
       "polarity\n",
       "NEUTRAL     12\n",
       "POSITIVE    63\n",
       "dtype: int64"
      ]
     },
     "execution_count": 11,
     "metadata": {},
     "output_type": "execute_result"
    }
   ],
   "source": [
    "df_tweets.groupby('polarity').size()"
   ]
  },
  {
   "cell_type": "code",
   "execution_count": 19,
   "metadata": {},
   "outputs": [
    {
     "data": {
      "text/html": [
       "<div>\n",
       "<style scoped>\n",
       "    .dataframe tbody tr th:only-of-type {\n",
       "        vertical-align: middle;\n",
       "    }\n",
       "\n",
       "    .dataframe tbody tr th {\n",
       "        vertical-align: top;\n",
       "    }\n",
       "\n",
       "    .dataframe thead th {\n",
       "        text-align: right;\n",
       "    }\n",
       "</style>\n",
       "<table border=\"1\" class=\"dataframe\">\n",
       "  <thead>\n",
       "    <tr style=\"text-align: right;\">\n",
       "      <th></th>\n",
       "      <th>Date</th>\n",
       "      <th>free_text</th>\n",
       "      <th>polarity</th>\n",
       "      <th>score</th>\n",
       "    </tr>\n",
       "  </thead>\n",
       "  <tbody>\n",
       "    <tr>\n",
       "      <th>0</th>\n",
       "      <td>2020-09-11</td>\n",
       "      <td>A Message From The Team. https://t.co/6Ae8fC7SX7</td>\n",
       "      <td>POSITIVE</td>\n",
       "      <td>0.937148</td>\n",
       "    </tr>\n",
       "    <tr>\n",
       "      <th>1</th>\n",
       "      <td>2020-04-10</td>\n",
       "      <td>RT @karimtoubajie: For anyone at St George's Hospital, I recorded the ICU segment on BBC London this evening (9th April 2020) as we've been…</td>\n",
       "      <td>NEUTRAL</td>\n",
       "      <td>0.733527</td>\n",
       "    </tr>\n",
       "    <tr>\n",
       "      <th>2</th>\n",
       "      <td>2020-03-25</td>\n",
       "      <td>We hosted our first virtual workout with the team and I’d say it went pretty well 💪🏽 https://t.co/WkDGxZ9rk7</td>\n",
       "      <td>POSITIVE</td>\n",
       "      <td>0.967182</td>\n",
       "    </tr>\n",
       "    <tr>\n",
       "      <th>3</th>\n",
       "      <td>2020-03-23</td>\n",
       "      <td>We’ve come up with some creative virtual ideas to keep the team engaged and connected;\\n\\nMorning Meditation \\nCooking… https://t.co/ZS8DXFvBOx</td>\n",
       "      <td>POSITIVE</td>\n",
       "      <td>0.958042</td>\n",
       "    </tr>\n",
       "    <tr>\n",
       "      <th>4</th>\n",
       "      <td>2020-03-15</td>\n",
       "      <td>@TGR_WRC congrats on the top step!!   Sweet victory. 🥇 🥳 https://t.co/P6BMW33jZJ</td>\n",
       "      <td>POSITIVE</td>\n",
       "      <td>0.994482</td>\n",
       "    </tr>\n",
       "    <tr>\n",
       "      <th>5</th>\n",
       "      <td>2020-03-11</td>\n",
       "      <td>TOYOTA https://t.co/Otw333yyNY</td>\n",
       "      <td>NEUTRAL</td>\n",
       "      <td>0.753525</td>\n",
       "    </tr>\n",
       "    <tr>\n",
       "      <th>6</th>\n",
       "      <td>2020-03-11</td>\n",
       "      <td>RT @TGR_WRC: Hola, México! 🇲🇽\\n\\nWe had a great welcome event in Mexico City with @ToyotaMex on Saturday, with @ElfynEvans and @KalleRovanper…</td>\n",
       "      <td>POSITIVE</td>\n",
       "      <td>0.989230</td>\n",
       "    </tr>\n",
       "    <tr>\n",
       "      <th>18</th>\n",
       "      <td>2019-08-07</td>\n",
       "      <td>https://t.co/ycAMQl6caX https://t.co/zBscpx3c0q</td>\n",
       "      <td>NEUTRAL</td>\n",
       "      <td>0.677253</td>\n",
       "    </tr>\n",
       "    <tr>\n",
       "      <th>20</th>\n",
       "      <td>2019-07-26</td>\n",
       "      <td>The morning commute! 🚲 @BromptonBicycle #Mobility https://t.co/xHTgTxWp4y</td>\n",
       "      <td>NEUTRAL</td>\n",
       "      <td>0.748767</td>\n",
       "    </tr>\n",
       "    <tr>\n",
       "      <th>21</th>\n",
       "      <td>2019-07-21</td>\n",
       "      <td>RT @clupu: Did not imagined how cool my career will become when I discovered 9 years ago #rstats @ToyotaConEurope -&amp;gt; Collaborating with Wor…</td>\n",
       "      <td>NEUTRAL</td>\n",
       "      <td>0.411417</td>\n",
       "    </tr>\n",
       "  </tbody>\n",
       "</table>\n",
       "</div>"
      ],
      "text/plain": [
       "         Date  \\\n",
       "0  2020-09-11   \n",
       "1  2020-04-10   \n",
       "2  2020-03-25   \n",
       "3  2020-03-23   \n",
       "4  2020-03-15   \n",
       "5  2020-03-11   \n",
       "6  2020-03-11   \n",
       "18 2019-08-07   \n",
       "20 2019-07-26   \n",
       "21 2019-07-21   \n",
       "\n",
       "                                                                                                                                          free_text  \\\n",
       "0   A Message From The Team. https://t.co/6Ae8fC7SX7                                                                                                  \n",
       "1   RT @karimtoubajie: For anyone at St George's Hospital, I recorded the ICU segment on BBC London this evening (9th April 2020) as we've been…      \n",
       "2   We hosted our first virtual workout with the team and I’d say it went pretty well 💪🏽 https://t.co/WkDGxZ9rk7                                      \n",
       "3   We’ve come up with some creative virtual ideas to keep the team engaged and connected;\\n\\nMorning Meditation \\nCooking… https://t.co/ZS8DXFvBOx   \n",
       "4   @TGR_WRC congrats on the top step!!   Sweet victory. 🥇 🥳 https://t.co/P6BMW33jZJ                                                                  \n",
       "5   TOYOTA https://t.co/Otw333yyNY                                                                                                                    \n",
       "6   RT @TGR_WRC: Hola, México! 🇲🇽\\n\\nWe had a great welcome event in Mexico City with @ToyotaMex on Saturday, with @ElfynEvans and @KalleRovanper…    \n",
       "18  https://t.co/ycAMQl6caX https://t.co/zBscpx3c0q                                                                                                   \n",
       "20  The morning commute! 🚲 @BromptonBicycle #Mobility https://t.co/xHTgTxWp4y                                                                         \n",
       "21  RT @clupu: Did not imagined how cool my career will become when I discovered 9 years ago #rstats @ToyotaConEurope -&gt; Collaborating with Wor…   \n",
       "\n",
       "    polarity     score  \n",
       "0   POSITIVE  0.937148  \n",
       "1   NEUTRAL   0.733527  \n",
       "2   POSITIVE  0.967182  \n",
       "3   POSITIVE  0.958042  \n",
       "4   POSITIVE  0.994482  \n",
       "5   NEUTRAL   0.753525  \n",
       "6   POSITIVE  0.989230  \n",
       "18  NEUTRAL   0.677253  \n",
       "20  NEUTRAL   0.748767  \n",
       "21  NEUTRAL   0.411417  "
      ]
     },
     "execution_count": 19,
     "metadata": {},
     "output_type": "execute_result"
    }
   ],
   "source": [
    "df_tweets.groupby('polarity').head(5)"
   ]
  }
 ],
 "metadata": {
  "kernelspec": {
   "display_name": "Python 3",
   "language": "python",
   "name": "python3"
  },
  "language_info": {
   "codemirror_mode": {
    "name": "ipython",
    "version": 3
   },
   "file_extension": ".py",
   "mimetype": "text/x-python",
   "name": "python",
   "nbconvert_exporter": "python",
   "pygments_lexer": "ipython3",
   "version": "3.7.3"
  }
 },
 "nbformat": 4,
 "nbformat_minor": 2
}

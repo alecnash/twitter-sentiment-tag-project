{
 "cells": [
  {
   "cell_type": "code",
   "execution_count": 1,
   "metadata": {},
   "outputs": [
    {
     "name": "stderr",
     "output_type": "stream",
     "text": [
      "Using TensorFlow backend.\n"
     ]
    }
   ],
   "source": [
    "import os\n",
    "import pickle\n",
    "\n",
    "import pandas as pd\n",
    "import datetime as dt\n",
    "import numpy as np\n",
    "\n",
    "import matplotlib.pyplot as plt\n",
    "from matplotlib import style\n",
    "\n",
    "from keras.models import load_model\n",
    "import tweepy\n",
    "import json\n",
    "\n",
    "os.chdir('C:\\\\Users\\\\kosta\\\\Desktop\\\\projects\\\\twitter\\src')\n",
    "from predict import predict\n",
    "from decode_sentiment import decode_sentiment\n",
    "import twitter_credentials\n",
    "from fetch_tweets import fetch_tweets\n",
    "\n",
    "os.chdir('C:\\\\Users\\\\kosta\\\\Desktop\\\\projects\\\\twitter\\models')\n",
    "tokenizer = pickle.load(open('tokenizer.pkl', \"rb\"))\n",
    "model = load_model('model.h5')\n"
   ]
  },
  {
   "cell_type": "code",
   "execution_count": 63,
   "metadata": {},
   "outputs": [],
   "source": [
    "pd.set_option('display.max_colwidth', -1)"
   ]
  },
  {
   "cell_type": "code",
   "execution_count": 3,
   "metadata": {
    "scrolled": true
   },
   "outputs": [],
   "source": [
    "auth = tweepy.OAuthHandler(twitter_credentials.consumer_key, twitter_credentials.consumer_secret)\n",
    "auth.set_access_token(twitter_credentials.access_token, twitter_credentials.access_token_secret)\n",
    "api = tweepy.API(auth)"
   ]
  },
  {
   "cell_type": "code",
   "execution_count": 4,
   "metadata": {
    "scrolled": true
   },
   "outputs": [],
   "source": [
    "screen_name = 'BCGDV'\n",
    "df_tweets = fetch_tweets(screen_name,api)\n",
    "df_tweets['Date'] = pd.to_datetime(df_tweets['Date'].dt.date)\n",
    "df_tweets['free_text'] = df_tweets['free_text'].apply(row_text: row_text.decode(\"utf-8\")) "
   ]
  },
  {
   "cell_type": "code",
   "execution_count": 5,
   "metadata": {},
   "outputs": [
    {
     "name": "stdout",
     "output_type": "stream",
     "text": [
      "No. of tweets: 2363\n"
     ]
    }
   ],
   "source": [
    "print('No. of tweets: {}'.format(df_tweets.shape[0]))"
   ]
  },
  {
   "cell_type": "code",
   "execution_count": 6,
   "metadata": {},
   "outputs": [
    {
     "data": {
      "image/png": "[encoded data removed]",
      "text/plain": [
       "<Figure size 432x288 with 1 Axes>"
      ]
     },
     "metadata": {
      "needs_background": "light"
     },
     "output_type": "display_data"
    }
   ],
   "source": [
    "df_tweets.groupby(df_tweets['Date'].dt.to_period('M')).agg({'free_text':'count'}).reset_index().plot('Date','free_text')\n",
    "plt.ylabel('# tweets')\n",
    "plt.title('# tweets posted over time')\n",
    "plt.show()"
   ]
  },
  {
   "cell_type": "code",
   "execution_count": 50,
   "metadata": {},
   "outputs": [
    {
     "name": "stdout",
     "output_type": "stream",
     "text": [
      "RT @Jeffschumacher4: Speaking earlier pre-#slush15 about re-imaging and re-creating world-leading businesses with #digital ventures. https:… \n",
      "\n"
     ]
    },
    {
     "data": {
      "text/plain": [
       "{'label': 'POSITIVE',\n",
       " 'score': 0.8898628354072571,\n",
       " 'elapsed_time': 0.02393627166748047}"
      ]
     },
     "execution_count": 50,
     "metadata": {},
     "output_type": "execute_result"
    }
   ],
   "source": [
    "text = df_tweets.sample(n=1)['free_text'].values[0].decode(\"utf-8\")\n",
    "print(text,'\\n')\n",
    "predict(text=text,SEQUENCE_LENGTH=300,saved_tokenizer=tokenizer,saved_model=model)"
   ]
  },
  {
   "cell_type": "code",
   "execution_count": 55,
   "metadata": {},
   "outputs": [],
   "source": [
    "df_tweets['polarity'] = df_tweets['free_text'].apply(lambda row_text: predict(row_text,SEQUENCE_LENGTH=300,saved_tokenizer=tokenizer,saved_model=model)['label'])"
   ]
  },
  {
   "cell_type": "code",
   "execution_count": 56,
   "metadata": {},
   "outputs": [
    {
     "data": {
      "text/plain": [
       "polarity\n",
       "NEGATIVE    147 \n",
       "NEUTRAL     502 \n",
       "POSITIVE    1714\n",
       "dtype: int64"
      ]
     },
     "execution_count": 56,
     "metadata": {},
     "output_type": "execute_result"
    }
   ],
   "source": [
    "df_tweets.groupby('polarity').size()"
   ]
  },
  {
   "cell_type": "code",
   "execution_count": 105,
   "metadata": {},
   "outputs": [
    {
     "data": {
      "text/html": [
       "<div>\n",
       "<style scoped>\n",
       "    .dataframe tbody tr th:only-of-type {\n",
       "        vertical-align: middle;\n",
       "    }\n",
       "\n",
       "    .dataframe tbody tr th {\n",
       "        vertical-align: top;\n",
       "    }\n",
       "\n",
       "    .dataframe thead th {\n",
       "        text-align: right;\n",
       "    }\n",
       "</style>\n",
       "<table border=\"1\" class=\"dataframe\">\n",
       "  <thead>\n",
       "    <tr style=\"text-align: right;\">\n",
       "      <th></th>\n",
       "      <th>Date</th>\n",
       "      <th>free_text</th>\n",
       "      <th>polarity</th>\n",
       "    </tr>\n",
       "  </thead>\n",
       "  <tbody>\n",
       "    <tr>\n",
       "      <th>1967</th>\n",
       "      <td>2015-12-28</td>\n",
       "      <td>A #Design Trend No One Could Have Predicted. The intersection of #raw materials and the #DIY aesthetic via @Inc https://t.co/MQfaILPDY8</td>\n",
       "      <td>NEGATIVE</td>\n",
       "    </tr>\n",
       "    <tr>\n",
       "      <th>930</th>\n",
       "      <td>2017-05-31</td>\n",
       "      <td>\" #Digital breaks down functional, regional and industrial barriers.\" - @Jeffschumacher4 from #CodeConf w/ @Nasdaq… https://t.co/XF42FoWmCZ</td>\n",
       "      <td>NEGATIVE</td>\n",
       "    </tr>\n",
       "    <tr>\n",
       "      <th>478</th>\n",
       "      <td>2018-09-05</td>\n",
       "      <td>RT @TOABerlin: 90% of startups fail. Want to be different? Want to actually succeed? \\nFounder of @BCGDV explains what makes VCs tick: 13 ke…</td>\n",
       "      <td>NEGATIVE</td>\n",
       "    </tr>\n",
       "    <tr>\n",
       "      <th>1036</th>\n",
       "      <td>2017-03-12</td>\n",
       "      <td>My body is not an iPhone - Principle 1 for #designing #wearables. All 6 are available for download now on Pollen:… https://t.co/KDywZj7CLo</td>\n",
       "      <td>NEGATIVE</td>\n",
       "    </tr>\n",
       "    <tr>\n",
       "      <th>897</th>\n",
       "      <td>2017-07-01</td>\n",
       "      <td>RT @designtaxi: There is no good or bad font, just bad uses of fonts https://t.co/DKRImcw1Pg</td>\n",
       "      <td>NEGATIVE</td>\n",
       "    </tr>\n",
       "  </tbody>\n",
       "</table>\n",
       "</div>"
      ],
      "text/plain": [
       "           Date  \\\n",
       "1967 2015-12-28   \n",
       "930  2017-05-31   \n",
       "478  2018-09-05   \n",
       "1036 2017-03-12   \n",
       "897  2017-07-01   \n",
       "\n",
       "                                                                                                                                          free_text  \\\n",
       "1967  A #Design Trend No One Could Have Predicted. The intersection of #raw materials and the #DIY aesthetic via @Inc https://t.co/MQfaILPDY8         \n",
       "930   \" #Digital breaks down functional, regional and industrial barriers.\" - @Jeffschumacher4 from #CodeConf w/ @Nasdaq… https://t.co/XF42FoWmCZ     \n",
       "478   RT @TOABerlin: 90% of startups fail. Want to be different? Want to actually succeed? \\nFounder of @BCGDV explains what makes VCs tick: 13 ke…   \n",
       "1036  My body is not an iPhone - Principle 1 for #designing #wearables. All 6 are available for download now on Pollen:… https://t.co/KDywZj7CLo      \n",
       "897   RT @designtaxi: There is no good or bad font, just bad uses of fonts https://t.co/DKRImcw1Pg                                                    \n",
       "\n",
       "      polarity  \n",
       "1967  NEGATIVE  \n",
       "930   NEGATIVE  \n",
       "478   NEGATIVE  \n",
       "1036  NEGATIVE  \n",
       "897   NEGATIVE  "
      ]
     },
     "execution_count": 105,
     "metadata": {},
     "output_type": "execute_result"
    }
   ],
   "source": [
    "seed=52\n",
    "df_tweets[df_tweets['polarity']=='NEGATIVE'].sample(n=5,random_state=seed)\n"
   ]
  },
  {
   "cell_type": "code",
   "execution_count": 103,
   "metadata": {},
   "outputs": [
    {
     "data": {
      "text/html": [
       "<div>\n",
       "<style scoped>\n",
       "    .dataframe tbody tr th:only-of-type {\n",
       "        vertical-align: middle;\n",
       "    }\n",
       "\n",
       "    .dataframe tbody tr th {\n",
       "        vertical-align: top;\n",
       "    }\n",
       "\n",
       "    .dataframe thead th {\n",
       "        text-align: right;\n",
       "    }\n",
       "</style>\n",
       "<table border=\"1\" class=\"dataframe\">\n",
       "  <thead>\n",
       "    <tr style=\"text-align: right;\">\n",
       "      <th></th>\n",
       "      <th>Date</th>\n",
       "      <th>free_text</th>\n",
       "      <th>polarity</th>\n",
       "    </tr>\n",
       "  </thead>\n",
       "  <tbody>\n",
       "    <tr>\n",
       "      <th>332</th>\n",
       "      <td>2019-02-22</td>\n",
       "      <td>Go time! #DVImagines #BCGDV</td>\n",
       "      <td>NEUTRAL</td>\n",
       "    </tr>\n",
       "    <tr>\n",
       "      <th>1740</th>\n",
       "      <td>2016-03-28</td>\n",
       "      <td>Blending the mindsets of an entrepreneur and an employee in the workplace.  https://t.co/6WlrzzcV3h</td>\n",
       "      <td>NEUTRAL</td>\n",
       "    </tr>\n",
       "    <tr>\n",
       "      <th>1757</th>\n",
       "      <td>2016-03-23</td>\n",
       "      <td>RT @arstechnica: Having a hard time parsing all the upcoming VR offerings? We've got you covered #flowchart https://t.co/y05otSQJYp https:/…</td>\n",
       "      <td>NEUTRAL</td>\n",
       "    </tr>\n",
       "    <tr>\n",
       "      <th>395</th>\n",
       "      <td>2018-11-08</td>\n",
       "      <td>“All modes of mobility are made up of a vehicle, a path and an experience.” Food for thought from Dylan Jones of Ge… https://t.co/t6xPPU1JN7</td>\n",
       "      <td>NEUTRAL</td>\n",
       "    </tr>\n",
       "    <tr>\n",
       "      <th>418</th>\n",
       "      <td>2018-10-18</td>\n",
       "      <td>Test &amp;amp; learn always. https://t.co/FDbYXyyf6a @rderow #growth #growthmarketing https://t.co/agVsDYSZzL</td>\n",
       "      <td>NEUTRAL</td>\n",
       "    </tr>\n",
       "  </tbody>\n",
       "</table>\n",
       "</div>"
      ],
      "text/plain": [
       "           Date  \\\n",
       "332  2019-02-22   \n",
       "1740 2016-03-28   \n",
       "1757 2016-03-23   \n",
       "395  2018-11-08   \n",
       "418  2018-10-18   \n",
       "\n",
       "                                                                                                                                         free_text  \\\n",
       "332   Go time! #DVImagines #BCGDV                                                                                                                    \n",
       "1740  Blending the mindsets of an entrepreneur and an employee in the workplace.  https://t.co/6WlrzzcV3h                                            \n",
       "1757  RT @arstechnica: Having a hard time parsing all the upcoming VR offerings? We've got you covered #flowchart https://t.co/y05otSQJYp https:/…   \n",
       "395   “All modes of mobility are made up of a vehicle, a path and an experience.” Food for thought from Dylan Jones of Ge… https://t.co/t6xPPU1JN7   \n",
       "418   Test &amp; learn always. https://t.co/FDbYXyyf6a @rderow #growth #growthmarketing https://t.co/agVsDYSZzL                                      \n",
       "\n",
       "     polarity  \n",
       "332   NEUTRAL  \n",
       "1740  NEUTRAL  \n",
       "1757  NEUTRAL  \n",
       "395   NEUTRAL  \n",
       "418   NEUTRAL  "
      ]
     },
     "execution_count": 103,
     "metadata": {},
     "output_type": "execute_result"
    }
   ],
   "source": [
    "df_tweets[df_tweets['polarity']=='NEUTRAL'].sample(n=5,random_state=seed)"
   ]
  },
  {
   "cell_type": "code",
   "execution_count": 104,
   "metadata": {},
   "outputs": [
    {
     "data": {
      "text/html": [
       "<div>\n",
       "<style scoped>\n",
       "    .dataframe tbody tr th:only-of-type {\n",
       "        vertical-align: middle;\n",
       "    }\n",
       "\n",
       "    .dataframe tbody tr th {\n",
       "        vertical-align: top;\n",
       "    }\n",
       "\n",
       "    .dataframe thead th {\n",
       "        text-align: right;\n",
       "    }\n",
       "</style>\n",
       "<table border=\"1\" class=\"dataframe\">\n",
       "  <thead>\n",
       "    <tr style=\"text-align: right;\">\n",
       "      <th></th>\n",
       "      <th>Date</th>\n",
       "      <th>free_text</th>\n",
       "      <th>polarity</th>\n",
       "    </tr>\n",
       "  </thead>\n",
       "  <tbody>\n",
       "    <tr>\n",
       "      <th>1858</th>\n",
       "      <td>2016-02-11</td>\n",
       "      <td>BCGDV #Sydney Director @CraigBoshier speaks at @PauseFest at @FutureBrand &amp;amp; BCGDV Business Day https://t.co/1K3QDSxM5b</td>\n",
       "      <td>POSITIVE</td>\n",
       "    </tr>\n",
       "    <tr>\n",
       "      <th>1791</th>\n",
       "      <td>2016-03-07</td>\n",
       "      <td>Read our reflections from our recent stint of mentoring at @mymgsm from DV Asia's @sangelalloyd https://t.co/SjOOmc9BNm</td>\n",
       "      <td>POSITIVE</td>\n",
       "    </tr>\n",
       "    <tr>\n",
       "      <th>676</th>\n",
       "      <td>2018-01-03</td>\n",
       "      <td>RT @aigalosangeles: Today, analysts &amp;amp; algorithms can predict your next decision before you’re even faced with it. How does design fit into…</td>\n",
       "      <td>POSITIVE</td>\n",
       "    </tr>\n",
       "    <tr>\n",
       "      <th>476</th>\n",
       "      <td>2018-09-05</td>\n",
       "      <td>“We are all listening to data all the time. Consuming it every day” - Micah from Allergan on conversational commerc… https://t.co/GAm1pqQxqc</td>\n",
       "      <td>POSITIVE</td>\n",
       "    </tr>\n",
       "    <tr>\n",
       "      <th>1807</th>\n",
       "      <td>2016-02-27</td>\n",
       "      <td>Question time-thanks for the talk Madeleine on #research jammers now have some great input for #GSJam @Jam_Berlin https://t.co/MLk7CxF99q</td>\n",
       "      <td>POSITIVE</td>\n",
       "    </tr>\n",
       "  </tbody>\n",
       "</table>\n",
       "</div>"
      ],
      "text/plain": [
       "           Date  \\\n",
       "1858 2016-02-11   \n",
       "1791 2016-03-07   \n",
       "676  2018-01-03   \n",
       "476  2018-09-05   \n",
       "1807 2016-02-27   \n",
       "\n",
       "                                                                                                                                            free_text  \\\n",
       "1858  BCGDV #Sydney Director @CraigBoshier speaks at @PauseFest at @FutureBrand &amp; BCGDV Business Day https://t.co/1K3QDSxM5b                        \n",
       "1791  Read our reflections from our recent stint of mentoring at @mymgsm from DV Asia's @sangelalloyd https://t.co/SjOOmc9BNm                           \n",
       "676   RT @aigalosangeles: Today, analysts &amp; algorithms can predict your next decision before you’re even faced with it. How does design fit into…   \n",
       "476   “We are all listening to data all the time. Consuming it every day” - Micah from Allergan on conversational commerc… https://t.co/GAm1pqQxqc      \n",
       "1807  Question time-thanks for the talk Madeleine on #research jammers now have some great input for #GSJam @Jam_Berlin https://t.co/MLk7CxF99q         \n",
       "\n",
       "      polarity  \n",
       "1858  POSITIVE  \n",
       "1791  POSITIVE  \n",
       "676   POSITIVE  \n",
       "476   POSITIVE  \n",
       "1807  POSITIVE  "
      ]
     },
     "execution_count": 104,
     "metadata": {},
     "output_type": "execute_result"
    }
   ],
   "source": [
    "df_tweets[df_tweets['polarity']=='POSITIVE'].sample(n=5,random_state=seed)"
   ]
  },
  {
   "cell_type": "code",
   "execution_count": null,
   "metadata": {},
   "outputs": [],
   "source": []
  }
 ],
 "metadata": {
  "kernelspec": {
   "display_name": "Python 3",
   "language": "python",
   "name": "python3"
  },
  "language_info": {
   "codemirror_mode": {
    "name": "ipython",
    "version": 3
   },
   "file_extension": ".py",
   "mimetype": "text/x-python",
   "name": "python",
   "nbconvert_exporter": "python",
   "pygments_lexer": "ipython3",
   "version": "3.7.3"
  }
 },
 "nbformat": 4,
 "nbformat_minor": 2
}
